{
 "cells": [
  {
   "cell_type": "code",
   "execution_count": null,
   "id": "5bbfbf48",
   "metadata": {
    "vscode": {
     "languageId": "plaintext"
    }
   },
   "outputs": [],
   "source": [
    "from nltk import ne_chunk\n",
    "\n",
    "ner_result = ne_chunk(tagged_words)\n",
    "print(ner_result)"
   ]
  }
 ],
 "metadata": {
  "language_info": {
   "name": "python"
  }
 },
 "nbformat": 4,
 "nbformat_minor": 5
}
